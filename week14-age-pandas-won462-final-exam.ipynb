{
 "cells": [
  {
   "cell_type": "code",
   "execution_count": 7,
   "metadata": {},
   "outputs": [
    {
     "data": {
      "text/html": [
       "<div>\n",
       "<style scoped>\n",
       "    .dataframe tbody tr th:only-of-type {\n",
       "        vertical-align: middle;\n",
       "    }\n",
       "\n",
       "    .dataframe tbody tr th {\n",
       "        vertical-align: top;\n",
       "    }\n",
       "\n",
       "    .dataframe thead th {\n",
       "        text-align: right;\n",
       "    }\n",
       "</style>\n",
       "<table border=\"1\" class=\"dataframe\">\n",
       "  <thead>\n",
       "    <tr style=\"text-align: right;\">\n",
       "      <th></th>\n",
       "      <th>2023년09월_계_총인구수</th>\n",
       "      <th>2023년09월_계_연령구간인구수</th>\n",
       "      <th>2023년09월_계_0세</th>\n",
       "      <th>2023년09월_계_1세</th>\n",
       "      <th>2023년09월_계_2세</th>\n",
       "      <th>2023년09월_계_3세</th>\n",
       "      <th>2023년09월_계_4세</th>\n",
       "      <th>2023년09월_계_5세</th>\n",
       "      <th>2023년09월_계_6세</th>\n",
       "      <th>2023년09월_계_7세</th>\n",
       "      <th>...</th>\n",
       "      <th>2023년09월_계_91세</th>\n",
       "      <th>2023년09월_계_92세</th>\n",
       "      <th>2023년09월_계_93세</th>\n",
       "      <th>2023년09월_계_94세</th>\n",
       "      <th>2023년09월_계_95세</th>\n",
       "      <th>2023년09월_계_96세</th>\n",
       "      <th>2023년09월_계_97세</th>\n",
       "      <th>2023년09월_계_98세</th>\n",
       "      <th>2023년09월_계_99세</th>\n",
       "      <th>2023년09월_계_100세 이상</th>\n",
       "    </tr>\n",
       "    <tr>\n",
       "      <th>행정구역</th>\n",
       "      <th></th>\n",
       "      <th></th>\n",
       "      <th></th>\n",
       "      <th></th>\n",
       "      <th></th>\n",
       "      <th></th>\n",
       "      <th></th>\n",
       "      <th></th>\n",
       "      <th></th>\n",
       "      <th></th>\n",
       "      <th></th>\n",
       "      <th></th>\n",
       "      <th></th>\n",
       "      <th></th>\n",
       "      <th></th>\n",
       "      <th></th>\n",
       "      <th></th>\n",
       "      <th></th>\n",
       "      <th></th>\n",
       "      <th></th>\n",
       "      <th></th>\n",
       "    </tr>\n",
       "  </thead>\n",
       "  <tbody>\n",
       "    <tr>\n",
       "      <th>서울특별시  (1100000000)</th>\n",
       "      <td>9,407,540</td>\n",
       "      <td>9,407,540</td>\n",
       "      <td>38,101</td>\n",
       "      <td>41,599</td>\n",
       "      <td>43,518</td>\n",
       "      <td>44,893</td>\n",
       "      <td>48,097</td>\n",
       "      <td>51,107</td>\n",
       "      <td>56,215</td>\n",
       "      <td>64,176</td>\n",
       "      <td>...</td>\n",
       "      <td>8,984</td>\n",
       "      <td>6,319</td>\n",
       "      <td>5,441</td>\n",
       "      <td>4,430</td>\n",
       "      <td>3,158</td>\n",
       "      <td>2,286</td>\n",
       "      <td>1,306</td>\n",
       "      <td>916</td>\n",
       "      <td>703</td>\n",
       "      <td>1,505</td>\n",
       "    </tr>\n",
       "    <tr>\n",
       "      <th>서울특별시 종로구 (1111000000)</th>\n",
       "      <td>139,945</td>\n",
       "      <td>139,945</td>\n",
       "      <td>397</td>\n",
       "      <td>470</td>\n",
       "      <td>463</td>\n",
       "      <td>524</td>\n",
       "      <td>516</td>\n",
       "      <td>578</td>\n",
       "      <td>670</td>\n",
       "      <td>778</td>\n",
       "      <td>...</td>\n",
       "      <td>172</td>\n",
       "      <td>146</td>\n",
       "      <td>110</td>\n",
       "      <td>93</td>\n",
       "      <td>71</td>\n",
       "      <td>55</td>\n",
       "      <td>36</td>\n",
       "      <td>21</td>\n",
       "      <td>16</td>\n",
       "      <td>39</td>\n",
       "    </tr>\n",
       "    <tr>\n",
       "      <th>서울특별시 종로구 청운효자동(1111051500)</th>\n",
       "      <td>11,391</td>\n",
       "      <td>11,391</td>\n",
       "      <td>35</td>\n",
       "      <td>45</td>\n",
       "      <td>46</td>\n",
       "      <td>47</td>\n",
       "      <td>50</td>\n",
       "      <td>47</td>\n",
       "      <td>76</td>\n",
       "      <td>86</td>\n",
       "      <td>...</td>\n",
       "      <td>14</td>\n",
       "      <td>14</td>\n",
       "      <td>7</td>\n",
       "      <td>8</td>\n",
       "      <td>4</td>\n",
       "      <td>5</td>\n",
       "      <td>3</td>\n",
       "      <td>1</td>\n",
       "      <td>3</td>\n",
       "      <td>3</td>\n",
       "    </tr>\n",
       "    <tr>\n",
       "      <th>서울특별시 종로구 사직동(1111053000)</th>\n",
       "      <td>9,042</td>\n",
       "      <td>9,042</td>\n",
       "      <td>24</td>\n",
       "      <td>32</td>\n",
       "      <td>35</td>\n",
       "      <td>37</td>\n",
       "      <td>40</td>\n",
       "      <td>49</td>\n",
       "      <td>56</td>\n",
       "      <td>60</td>\n",
       "      <td>...</td>\n",
       "      <td>8</td>\n",
       "      <td>15</td>\n",
       "      <td>10</td>\n",
       "      <td>16</td>\n",
       "      <td>5</td>\n",
       "      <td>5</td>\n",
       "      <td>2</td>\n",
       "      <td>5</td>\n",
       "      <td>2</td>\n",
       "      <td>5</td>\n",
       "    </tr>\n",
       "    <tr>\n",
       "      <th>서울특별시 종로구 삼청동(1111054000)</th>\n",
       "      <td>2,252</td>\n",
       "      <td>2,252</td>\n",
       "      <td>7</td>\n",
       "      <td>4</td>\n",
       "      <td>8</td>\n",
       "      <td>7</td>\n",
       "      <td>4</td>\n",
       "      <td>9</td>\n",
       "      <td>13</td>\n",
       "      <td>10</td>\n",
       "      <td>...</td>\n",
       "      <td>7</td>\n",
       "      <td>3</td>\n",
       "      <td>5</td>\n",
       "      <td>1</td>\n",
       "      <td>2</td>\n",
       "      <td>1</td>\n",
       "      <td>1</td>\n",
       "      <td>0</td>\n",
       "      <td>0</td>\n",
       "      <td>2</td>\n",
       "    </tr>\n",
       "  </tbody>\n",
       "</table>\n",
       "<p>5 rows × 103 columns</p>\n",
       "</div>"
      ],
      "text/plain": [
       "                            2023년09월_계_총인구수 2023년09월_계_연령구간인구수 2023년09월_계_0세  \\\n",
       "행정구역                                                                           \n",
       "서울특별시  (1100000000)               9,407,540          9,407,540        38,101   \n",
       "서울특별시 종로구 (1111000000)              139,945            139,945           397   \n",
       "서울특별시 종로구 청운효자동(1111051500)          11,391             11,391            35   \n",
       "서울특별시 종로구 사직동(1111053000)             9,042              9,042            24   \n",
       "서울특별시 종로구 삼청동(1111054000)             2,252              2,252             7   \n",
       "\n",
       "                            2023년09월_계_1세 2023년09월_계_2세 2023년09월_계_3세  \\\n",
       "행정구역                                                                    \n",
       "서울특별시  (1100000000)                41,599        43,518        44,893   \n",
       "서울특별시 종로구 (1111000000)                470           463           524   \n",
       "서울특별시 종로구 청운효자동(1111051500)            45            46            47   \n",
       "서울특별시 종로구 사직동(1111053000)              32            35            37   \n",
       "서울특별시 종로구 삼청동(1111054000)               4             8             7   \n",
       "\n",
       "                            2023년09월_계_4세 2023년09월_계_5세 2023년09월_계_6세  \\\n",
       "행정구역                                                                    \n",
       "서울특별시  (1100000000)                48,097        51,107        56,215   \n",
       "서울특별시 종로구 (1111000000)                516           578           670   \n",
       "서울특별시 종로구 청운효자동(1111051500)            50            47            76   \n",
       "서울특별시 종로구 사직동(1111053000)              40            49            56   \n",
       "서울특별시 종로구 삼청동(1111054000)               4             9            13   \n",
       "\n",
       "                            2023년09월_계_7세  ... 2023년09월_계_91세 2023년09월_계_92세  \\\n",
       "행정구역                                       ...                                 \n",
       "서울특별시  (1100000000)                64,176  ...          8,984          6,319   \n",
       "서울특별시 종로구 (1111000000)                778  ...            172            146   \n",
       "서울특별시 종로구 청운효자동(1111051500)            86  ...             14             14   \n",
       "서울특별시 종로구 사직동(1111053000)              60  ...              8             15   \n",
       "서울특별시 종로구 삼청동(1111054000)              10  ...              7              3   \n",
       "\n",
       "                            2023년09월_계_93세 2023년09월_계_94세 2023년09월_계_95세  \\\n",
       "행정구역                                                                       \n",
       "서울특별시  (1100000000)                  5,441          4,430          3,158   \n",
       "서울특별시 종로구 (1111000000)                 110             93             71   \n",
       "서울특별시 종로구 청운효자동(1111051500)              7              8              4   \n",
       "서울특별시 종로구 사직동(1111053000)               10             16              5   \n",
       "서울특별시 종로구 삼청동(1111054000)                5              1              2   \n",
       "\n",
       "                            2023년09월_계_96세 2023년09월_계_97세 2023년09월_계_98세  \\\n",
       "행정구역                                                                       \n",
       "서울특별시  (1100000000)                  2,286          1,306            916   \n",
       "서울특별시 종로구 (1111000000)                  55             36             21   \n",
       "서울특별시 종로구 청운효자동(1111051500)              5              3              1   \n",
       "서울특별시 종로구 사직동(1111053000)                5              2              5   \n",
       "서울특별시 종로구 삼청동(1111054000)                1              1              0   \n",
       "\n",
       "                            2023년09월_계_99세 2023년09월_계_100세 이상  \n",
       "행정구역                                                           \n",
       "서울특별시  (1100000000)                    703              1,505  \n",
       "서울특별시 종로구 (1111000000)                  16                 39  \n",
       "서울특별시 종로구 청운효자동(1111051500)              3                  3  \n",
       "서울특별시 종로구 사직동(1111053000)                2                  5  \n",
       "서울특별시 종로구 삼청동(1111054000)                0                  2  \n",
       "\n",
       "[5 rows x 103 columns]"
      ]
     },
     "execution_count": 7,
     "metadata": {},
     "output_type": "execute_result"
    }
   ],
   "source": [
    "import pandas as pd\n",
    "\n",
    "df = pd.read_csv('age.csv', encoding='cp949', index_col=0)\n",
    "df.head()"
   ]
  },
  {
   "cell_type": "code",
   "execution_count": 12,
   "metadata": {},
   "outputs": [
    {
     "data": {
      "text/plain": [
       "2023년09월_계_총인구수       int64\n",
       "2023년09월_계_연령구간인구수    int64\n",
       "2023년09월_계_0세         int64\n",
       "2023년09월_계_1세         int64\n",
       "2023년09월_계_2세         int64\n",
       "                      ...  \n",
       "2023년09월_계_96세        int64\n",
       "2023년09월_계_97세        int64\n",
       "2023년09월_계_98세        int64\n",
       "2023년09월_계_99세        int64\n",
       "2023년09월_계_100세 이상    int64\n",
       "Length: 103, dtype: object"
      ]
     },
     "execution_count": 12,
     "metadata": {},
     "output_type": "execute_result"
    }
   ],
   "source": [
    "import pandas as pd\n",
    "\n",
    "df = pd.read_csv('age.csv', encoding='cp949', index_col=0)\n",
    "df = df.replace(',', '', regex=True)\n",
    "\n",
    "df = df.apply(pd.to_numeric)\n",
    "df.dtypes"
   ]
  },
  {
   "cell_type": "code",
   "execution_count": 8,
   "metadata": {},
   "outputs": [
    {
     "ename": "KeyError",
     "evalue": "'2023년 09월_계_총인구수'",
     "output_type": "error",
     "traceback": [
      "\u001b[1;31m---------------------------------------------------------------------------\u001b[0m",
      "\u001b[1;31mKeyError\u001b[0m                                  Traceback (most recent call last)",
      "\u001b[1;32mc:\\Users\\102\\anaconda3\\lib\\site-packages\\pandas\\core\\indexes\\base.py\u001b[0m in \u001b[0;36mget_loc\u001b[1;34m(self, key, method, tolerance)\u001b[0m\n\u001b[0;32m   3628\u001b[0m             \u001b[1;32mtry\u001b[0m\u001b[1;33m:\u001b[0m\u001b[1;33m\u001b[0m\u001b[1;33m\u001b[0m\u001b[0m\n\u001b[1;32m-> 3629\u001b[1;33m                 \u001b[1;32mreturn\u001b[0m \u001b[0mself\u001b[0m\u001b[1;33m.\u001b[0m\u001b[0m_engine\u001b[0m\u001b[1;33m.\u001b[0m\u001b[0mget_loc\u001b[0m\u001b[1;33m(\u001b[0m\u001b[0mcasted_key\u001b[0m\u001b[1;33m)\u001b[0m\u001b[1;33m\u001b[0m\u001b[1;33m\u001b[0m\u001b[0m\n\u001b[0m\u001b[0;32m   3630\u001b[0m             \u001b[1;32mexcept\u001b[0m \u001b[0mKeyError\u001b[0m \u001b[1;32mas\u001b[0m \u001b[0merr\u001b[0m\u001b[1;33m:\u001b[0m\u001b[1;33m\u001b[0m\u001b[1;33m\u001b[0m\u001b[0m\n",
      "\u001b[1;32mc:\\Users\\102\\anaconda3\\lib\\site-packages\\pandas\\_libs\\index.pyx\u001b[0m in \u001b[0;36mpandas._libs.index.IndexEngine.get_loc\u001b[1;34m()\u001b[0m\n",
      "\u001b[1;32mc:\\Users\\102\\anaconda3\\lib\\site-packages\\pandas\\_libs\\index.pyx\u001b[0m in \u001b[0;36mpandas._libs.index.IndexEngine.get_loc\u001b[1;34m()\u001b[0m\n",
      "\u001b[1;32mpandas\\_libs\\hashtable_class_helper.pxi\u001b[0m in \u001b[0;36mpandas._libs.hashtable.PyObjectHashTable.get_item\u001b[1;34m()\u001b[0m\n",
      "\u001b[1;32mpandas\\_libs\\hashtable_class_helper.pxi\u001b[0m in \u001b[0;36mpandas._libs.hashtable.PyObjectHashTable.get_item\u001b[1;34m()\u001b[0m\n",
      "\u001b[1;31mKeyError\u001b[0m: '2023년 09월_계_총인구수'",
      "\nThe above exception was the direct cause of the following exception:\n",
      "\u001b[1;31mKeyError\u001b[0m                                  Traceback (most recent call last)",
      "\u001b[1;32m~\\AppData\\Local\\Temp\\ipykernel_5032\\1721433258.py\u001b[0m in \u001b[0;36m<module>\u001b[1;34m\u001b[0m\n\u001b[0;32m     10\u001b[0m \u001b[0mdf\u001b[0m \u001b[1;33m=\u001b[0m \u001b[0mdf\u001b[0m\u001b[1;33m[\u001b[0m\u001b[0mdf\u001b[0m\u001b[1;33m[\u001b[0m\u001b[0mdf\u001b[0m\u001b[1;33m.\u001b[0m\u001b[0mcolumns\u001b[0m\u001b[1;33m[\u001b[0m\u001b[1;36m0\u001b[0m\u001b[1;33m]\u001b[0m\u001b[1;33m]\u001b[0m \u001b[1;33m!=\u001b[0m \u001b[1;36m0\u001b[0m\u001b[1;33m]\u001b[0m\u001b[1;33m\u001b[0m\u001b[1;33m\u001b[0m\u001b[0m\n\u001b[0;32m     11\u001b[0m \u001b[1;33m\u001b[0m\u001b[0m\n\u001b[1;32m---> 12\u001b[1;33m \u001b[0mdf\u001b[0m \u001b[1;33m=\u001b[0m \u001b[0mdf\u001b[0m\u001b[1;33m.\u001b[0m\u001b[0mdiv\u001b[0m\u001b[1;33m(\u001b[0m\u001b[0mdf\u001b[0m\u001b[1;33m[\u001b[0m\u001b[1;34m'2023년 09월_계_총인구수'\u001b[0m\u001b[1;33m]\u001b[0m\u001b[1;33m,\u001b[0m \u001b[0maxis\u001b[0m\u001b[1;33m=\u001b[0m\u001b[1;34m'index'\u001b[0m\u001b[1;33m)\u001b[0m\u001b[1;33m\u001b[0m\u001b[1;33m\u001b[0m\u001b[0m\n\u001b[0m\u001b[0;32m     13\u001b[0m \u001b[1;32mdel\u001b[0m \u001b[0mdf\u001b[0m\u001b[1;33m[\u001b[0m\u001b[1;34m'2023년09월_계_총인구수'\u001b[0m\u001b[1;33m]\u001b[0m\u001b[1;33m,\u001b[0m \u001b[0mdf\u001b[0m\u001b[1;33m[\u001b[0m\u001b[1;34m'2023년09월_계_연령구간인구수'\u001b[0m\u001b[1;33m]\u001b[0m\u001b[1;33m\u001b[0m\u001b[1;33m\u001b[0m\u001b[0m\n\u001b[0;32m     14\u001b[0m \u001b[1;33m\u001b[0m\u001b[0m\n",
      "\u001b[1;32mc:\\Users\\102\\anaconda3\\lib\\site-packages\\pandas\\core\\frame.py\u001b[0m in \u001b[0;36m__getitem__\u001b[1;34m(self, key)\u001b[0m\n\u001b[0;32m   3503\u001b[0m             \u001b[1;32mif\u001b[0m \u001b[0mself\u001b[0m\u001b[1;33m.\u001b[0m\u001b[0mcolumns\u001b[0m\u001b[1;33m.\u001b[0m\u001b[0mnlevels\u001b[0m \u001b[1;33m>\u001b[0m \u001b[1;36m1\u001b[0m\u001b[1;33m:\u001b[0m\u001b[1;33m\u001b[0m\u001b[1;33m\u001b[0m\u001b[0m\n\u001b[0;32m   3504\u001b[0m                 \u001b[1;32mreturn\u001b[0m \u001b[0mself\u001b[0m\u001b[1;33m.\u001b[0m\u001b[0m_getitem_multilevel\u001b[0m\u001b[1;33m(\u001b[0m\u001b[0mkey\u001b[0m\u001b[1;33m)\u001b[0m\u001b[1;33m\u001b[0m\u001b[1;33m\u001b[0m\u001b[0m\n\u001b[1;32m-> 3505\u001b[1;33m             \u001b[0mindexer\u001b[0m \u001b[1;33m=\u001b[0m \u001b[0mself\u001b[0m\u001b[1;33m.\u001b[0m\u001b[0mcolumns\u001b[0m\u001b[1;33m.\u001b[0m\u001b[0mget_loc\u001b[0m\u001b[1;33m(\u001b[0m\u001b[0mkey\u001b[0m\u001b[1;33m)\u001b[0m\u001b[1;33m\u001b[0m\u001b[1;33m\u001b[0m\u001b[0m\n\u001b[0m\u001b[0;32m   3506\u001b[0m             \u001b[1;32mif\u001b[0m \u001b[0mis_integer\u001b[0m\u001b[1;33m(\u001b[0m\u001b[0mindexer\u001b[0m\u001b[1;33m)\u001b[0m\u001b[1;33m:\u001b[0m\u001b[1;33m\u001b[0m\u001b[1;33m\u001b[0m\u001b[0m\n\u001b[0;32m   3507\u001b[0m                 \u001b[0mindexer\u001b[0m \u001b[1;33m=\u001b[0m \u001b[1;33m[\u001b[0m\u001b[0mindexer\u001b[0m\u001b[1;33m]\u001b[0m\u001b[1;33m\u001b[0m\u001b[1;33m\u001b[0m\u001b[0m\n",
      "\u001b[1;32mc:\\Users\\102\\anaconda3\\lib\\site-packages\\pandas\\core\\indexes\\base.py\u001b[0m in \u001b[0;36mget_loc\u001b[1;34m(self, key, method, tolerance)\u001b[0m\n\u001b[0;32m   3629\u001b[0m                 \u001b[1;32mreturn\u001b[0m \u001b[0mself\u001b[0m\u001b[1;33m.\u001b[0m\u001b[0m_engine\u001b[0m\u001b[1;33m.\u001b[0m\u001b[0mget_loc\u001b[0m\u001b[1;33m(\u001b[0m\u001b[0mcasted_key\u001b[0m\u001b[1;33m)\u001b[0m\u001b[1;33m\u001b[0m\u001b[1;33m\u001b[0m\u001b[0m\n\u001b[0;32m   3630\u001b[0m             \u001b[1;32mexcept\u001b[0m \u001b[0mKeyError\u001b[0m \u001b[1;32mas\u001b[0m \u001b[0merr\u001b[0m\u001b[1;33m:\u001b[0m\u001b[1;33m\u001b[0m\u001b[1;33m\u001b[0m\u001b[0m\n\u001b[1;32m-> 3631\u001b[1;33m                 \u001b[1;32mraise\u001b[0m \u001b[0mKeyError\u001b[0m\u001b[1;33m(\u001b[0m\u001b[0mkey\u001b[0m\u001b[1;33m)\u001b[0m \u001b[1;32mfrom\u001b[0m \u001b[0merr\u001b[0m\u001b[1;33m\u001b[0m\u001b[1;33m\u001b[0m\u001b[0m\n\u001b[0m\u001b[0;32m   3632\u001b[0m             \u001b[1;32mexcept\u001b[0m \u001b[0mTypeError\u001b[0m\u001b[1;33m:\u001b[0m\u001b[1;33m\u001b[0m\u001b[1;33m\u001b[0m\u001b[0m\n\u001b[0;32m   3633\u001b[0m                 \u001b[1;31m# If we have a listlike key, _check_indexing_error will raise\u001b[0m\u001b[1;33m\u001b[0m\u001b[1;33m\u001b[0m\u001b[0m\n",
      "\u001b[1;31mKeyError\u001b[0m: '2023년 09월_계_총인구수'"
     ]
    }
   ],
   "source": [
    "import pandas as pd\n",
    "import matplotlib.pyplot as plt\n",
    "\n",
    "df = pd.read_csv('age.csv', encoding='cp949', index_col=0)\n",
    "df = df.replace(',', '', regex=True)\n",
    "\n",
    "df = df.apply(pd.to_numeric)\n",
    "\n",
    "# 총 인구수가 0인 행을 삭제\n",
    "df = df[df[df.columns[0]] != 0]\n",
    "\n",
    "df = df.div(df['2023년 09월_계_총인구수'], axis='index')\n",
    "del df['2023년09월_계_총인구수'], df['2023년09월_계_연령구간인구수']\n",
    "\n",
    "name = input('원하는 지역의 이름을 입력해주세요 : ') \n",
    "\n",
    "a = df.index.str.contains(name)\n",
    "df2 = df[a]\n",
    "\n",
    "plt.rcParams['font.family'] = 'Malgun Gothic'\n",
    "df2.T.plot()\n",
    "plt.show()"
   ]
  },
  {
   "cell_type": "code",
   "execution_count": null,
   "metadata": {},
   "outputs": [
    {
     "ename": "KeyboardInterrupt",
     "evalue": "Interrupted by user",
     "output_type": "error",
     "traceback": [
      "\u001b[1;31m---------------------------------------------------------------------------\u001b[0m",
      "\u001b[1;31mKeyboardInterrupt\u001b[0m                         Traceback (most recent call last)",
      "\u001b[1;32m~\\AppData\\Local\\Temp\\ipykernel_4700\\3039910232.py\u001b[0m in \u001b[0;36m<module>\u001b[1;34m\u001b[0m\n\u001b[0;32m     14\u001b[0m \u001b[1;32mdel\u001b[0m \u001b[0mdf\u001b[0m\u001b[1;33m[\u001b[0m\u001b[1;34m'2023년09월_계_총인구수'\u001b[0m\u001b[1;33m]\u001b[0m\u001b[1;33m,\u001b[0m \u001b[0mdf\u001b[0m\u001b[1;33m[\u001b[0m\u001b[1;34m'2023년09월_계_연령구간인구수'\u001b[0m\u001b[1;33m]\u001b[0m\u001b[1;33m\u001b[0m\u001b[1;33m\u001b[0m\u001b[0m\n\u001b[0;32m     15\u001b[0m \u001b[1;33m\u001b[0m\u001b[0m\n\u001b[1;32m---> 16\u001b[1;33m \u001b[0mname\u001b[0m \u001b[1;33m=\u001b[0m \u001b[0minput\u001b[0m\u001b[1;33m(\u001b[0m\u001b[1;34m'원하는 지역의 이름을 입력해주세요 : '\u001b[0m\u001b[1;33m)\u001b[0m\u001b[1;33m\u001b[0m\u001b[1;33m\u001b[0m\u001b[0m\n\u001b[0m\u001b[0;32m     17\u001b[0m \u001b[0mdf2\u001b[0m \u001b[1;33m=\u001b[0m \u001b[0mdf\u001b[0m\u001b[1;33m[\u001b[0m\u001b[0mdf\u001b[0m\u001b[1;33m.\u001b[0m\u001b[0mindex\u001b[0m\u001b[1;33m.\u001b[0m\u001b[0mstr\u001b[0m\u001b[1;33m.\u001b[0m\u001b[0mcontains\u001b[0m\u001b[1;33m(\u001b[0m\u001b[0mname\u001b[0m\u001b[1;33m)\u001b[0m\u001b[1;33m]\u001b[0m\u001b[1;33m\u001b[0m\u001b[1;33m\u001b[0m\u001b[0m\n\u001b[0;32m     18\u001b[0m \u001b[1;33m\u001b[0m\u001b[0m\n",
      "\u001b[1;32mc:\\Users\\102\\anaconda3\\lib\\site-packages\\ipykernel\\kernelbase.py\u001b[0m in \u001b[0;36mraw_input\u001b[1;34m(self, prompt)\u001b[0m\n\u001b[0;32m   1175\u001b[0m                 \u001b[1;34m\"raw_input was called, but this frontend does not support input requests.\"\u001b[0m\u001b[1;33m\u001b[0m\u001b[1;33m\u001b[0m\u001b[0m\n\u001b[0;32m   1176\u001b[0m             )\n\u001b[1;32m-> 1177\u001b[1;33m         return self._input_request(\n\u001b[0m\u001b[0;32m   1178\u001b[0m             \u001b[0mstr\u001b[0m\u001b[1;33m(\u001b[0m\u001b[0mprompt\u001b[0m\u001b[1;33m)\u001b[0m\u001b[1;33m,\u001b[0m\u001b[1;33m\u001b[0m\u001b[1;33m\u001b[0m\u001b[0m\n\u001b[0;32m   1179\u001b[0m             \u001b[0mself\u001b[0m\u001b[1;33m.\u001b[0m\u001b[0m_parent_ident\u001b[0m\u001b[1;33m[\u001b[0m\u001b[1;34m\"shell\"\u001b[0m\u001b[1;33m]\u001b[0m\u001b[1;33m,\u001b[0m\u001b[1;33m\u001b[0m\u001b[1;33m\u001b[0m\u001b[0m\n",
      "\u001b[1;32mc:\\Users\\102\\anaconda3\\lib\\site-packages\\ipykernel\\kernelbase.py\u001b[0m in \u001b[0;36m_input_request\u001b[1;34m(self, prompt, ident, parent, password)\u001b[0m\n\u001b[0;32m   1217\u001b[0m             \u001b[1;32mexcept\u001b[0m \u001b[0mKeyboardInterrupt\u001b[0m\u001b[1;33m:\u001b[0m\u001b[1;33m\u001b[0m\u001b[1;33m\u001b[0m\u001b[0m\n\u001b[0;32m   1218\u001b[0m                 \u001b[1;31m# re-raise KeyboardInterrupt, to truncate traceback\u001b[0m\u001b[1;33m\u001b[0m\u001b[1;33m\u001b[0m\u001b[0m\n\u001b[1;32m-> 1219\u001b[1;33m                 \u001b[1;32mraise\u001b[0m \u001b[0mKeyboardInterrupt\u001b[0m\u001b[1;33m(\u001b[0m\u001b[1;34m\"Interrupted by user\"\u001b[0m\u001b[1;33m)\u001b[0m \u001b[1;32mfrom\u001b[0m \u001b[1;32mNone\u001b[0m\u001b[1;33m\u001b[0m\u001b[1;33m\u001b[0m\u001b[0m\n\u001b[0m\u001b[0;32m   1220\u001b[0m             \u001b[1;32mexcept\u001b[0m \u001b[0mException\u001b[0m\u001b[1;33m:\u001b[0m\u001b[1;33m\u001b[0m\u001b[1;33m\u001b[0m\u001b[0m\n\u001b[0;32m   1221\u001b[0m                 \u001b[0mself\u001b[0m\u001b[1;33m.\u001b[0m\u001b[0mlog\u001b[0m\u001b[1;33m.\u001b[0m\u001b[0mwarning\u001b[0m\u001b[1;33m(\u001b[0m\u001b[1;34m\"Invalid Message:\"\u001b[0m\u001b[1;33m,\u001b[0m \u001b[0mexc_info\u001b[0m\u001b[1;33m=\u001b[0m\u001b[1;32mTrue\u001b[0m\u001b[1;33m)\u001b[0m\u001b[1;33m\u001b[0m\u001b[1;33m\u001b[0m\u001b[0m\n",
      "\u001b[1;31mKeyboardInterrupt\u001b[0m: Interrupted by user"
     ]
    }
   ],
   "source": [
    "import numpy as np\n",
    "import pandas as pd\n",
    "import matplotlib.pyplot as plt\n",
    "\n",
    "df = pd.read_csv('age.csv', encoding='cp949', index_col=0)\n",
    "\n",
    "df = df.replace(',', '', regex=True)\n",
    "df = df.apply(pd.to_numeric)\n",
    "\n",
    "# 총 인구수가 0인 행을 삭제\n",
    "df = df[df[df.columns[0]] != 0]\n",
    "\n",
    "df = df.div(df[df.columns[0]], axis='index')\n",
    "del df['2023년09월_계_총인구수'], df['2023년09월_계_연령구간인구수']\n",
    "\n",
    "name = input('원하는 지역의 이름을 입력해주세요 : ') \n",
    "df2 = df[df.index.str.contains(name)]\n",
    "\n",
    "x = df.sub(df2.iloc[0], axis='columns')\n",
    "y = np.power(x, 2)\n",
    "z = y.sum(axis='columns')\n",
    "i = z.sort_values().index[:6]\n",
    "\n",
    "plt.rcParams['font.family'] = 'Malgun Gothic'\n",
    "plt.rcParams['axes.unicode_minus'] = False\n",
    "\n",
    "df.columns = range(10)\n",
    "df.loc[i].T.plot(figsize=(10, 6))\n",
    "plt.xlabel('나이')\n",
    "plt.ylabel('인구비율')\n",
    "plt.grid(True)\n",
    "plt.show()\n"
   ]
  },
  {
   "cell_type": "code",
   "execution_count": null,
   "metadata": {},
   "outputs": [
    {
     "data": {
      "text/plain": [
       "Index(['서울특별시  (1100000000)', '서울특별시 종로구 (1111000000)',\n",
       "       '서울특별시 종로구 청운효자동(1111051500)', '서울특별시 종로구 사직동(1111053000)',\n",
       "       '서울특별시 종로구 삼청동(1111054000)', '서울특별시 종로구 부암동(1111055000)',\n",
       "       '서울특별시 종로구 평창동(1111056000)', '서울특별시 종로구 무악동(1111057000)',\n",
       "       '서울특별시 종로구 교남동(1111058000)', '서울특별시 종로구 가회동(1111060000)',\n",
       "       ...\n",
       "       '제주특별자치도 서귀포시 중앙동(5013053000)', '제주특별자치도 서귀포시 천지동(5013054000)',\n",
       "       '제주특별자치도 서귀포시 효돈동(5013055000)', '제주특별자치도 서귀포시 영천동(5013056000)',\n",
       "       '제주특별자치도 서귀포시 동홍동(5013057000)', '제주특별자치도 서귀포시 서홍동(5013058000)',\n",
       "       '제주특별자치도 서귀포시 대륜동(5013059000)', '제주특별자치도 서귀포시 대천동(5013060000)',\n",
       "       '제주특별자치도 서귀포시 중문동(5013061000)', '제주특별자치도 서귀포시 예래동(5013062000)'],\n",
       "      dtype='object', name='행정구역', length=3862)"
      ]
     },
     "execution_count": 3,
     "metadata": {},
     "output_type": "execute_result"
    }
   ],
   "source": [
    "df.index"
   ]
  },
  {
   "cell_type": "code",
   "execution_count": null,
   "metadata": {},
   "outputs": [
    {
     "data": {
      "text/plain": [
       "Index(['2023년09월_계_총인구수', '2023년09월_계_연령구간인구수', '2023년09월_계_0세',\n",
       "       '2023년09월_계_1세', '2023년09월_계_2세', '2023년09월_계_3세', '2023년09월_계_4세',\n",
       "       '2023년09월_계_5세', '2023년09월_계_6세', '2023년09월_계_7세',\n",
       "       ...\n",
       "       '2023년09월_계_91세', '2023년09월_계_92세', '2023년09월_계_93세', '2023년09월_계_94세',\n",
       "       '2023년09월_계_95세', '2023년09월_계_96세', '2023년09월_계_97세', '2023년09월_계_98세',\n",
       "       '2023년09월_계_99세', '2023년09월_계_100세 이상'],\n",
       "      dtype='object', length=103)"
      ]
     },
     "execution_count": 4,
     "metadata": {},
     "output_type": "execute_result"
    }
   ],
   "source": [
    "df.columns"
   ]
  },
  {
   "cell_type": "code",
   "execution_count": null,
   "metadata": {},
   "outputs": [
    {
     "data": {
      "text/plain": [
       "array([[9407540, 9407540,   38101, ...,     916,     703,    1505],\n",
       "       [ 139945,  139945,     397, ...,      21,      16,      39],\n",
       "       [  11391,   11391,      35, ...,       1,       3,       3],\n",
       "       ...,\n",
       "       [  13652,   13652,      86, ...,       0,       1,       4],\n",
       "       [  12413,   12413,      66, ...,       1,       0,       4],\n",
       "       [   3847,    3847,       8, ...,       0,       0,       2]],\n",
       "      dtype=int64)"
      ]
     },
     "execution_count": 5,
     "metadata": {},
     "output_type": "execute_result"
    }
   ],
   "source": [
    "df.values"
   ]
  },
  {
   "cell_type": "code",
   "execution_count": 9,
   "metadata": {},
   "outputs": [
    {
     "data": {
      "text/plain": [
       "array([0, 1, 2, 3, 4, 5, 6, 7, 8, 9])"
      ]
     },
     "execution_count": 9,
     "metadata": {},
     "output_type": "execute_result"
    }
   ],
   "source": [
    "import numpy as np\n",
    "d = np.arange(10)\n",
    "d"
   ]
  },
  {
   "cell_type": "code",
   "execution_count": 10,
   "metadata": {},
   "outputs": [
    {
     "data": {
      "text/plain": [
       "array([False, False, False, False, False, False,  True,  True,  True,\n",
       "        True])"
      ]
     },
     "execution_count": 10,
     "metadata": {},
     "output_type": "execute_result"
    }
   ],
   "source": [
    "cond = d > 5\n",
    "cond"
   ]
  },
  {
   "cell_type": "code",
   "execution_count": 11,
   "metadata": {},
   "outputs": [
    {
     "data": {
      "text/plain": [
       "array([6, 7, 8, 9])"
      ]
     },
     "execution_count": 11,
     "metadata": {},
     "output_type": "execute_result"
    }
   ],
   "source": [
    "d[cond]"
   ]
  },
  {
   "attachments": {},
   "cell_type": "markdown",
   "metadata": {},
   "source": [
    "## map()"
   ]
  },
  {
   "cell_type": "code",
   "execution_count": 13,
   "metadata": {},
   "outputs": [
    {
     "data": {
      "text/plain": [
       "[34, 1999, 2876, 1000000]"
      ]
     },
     "execution_count": 13,
     "metadata": {},
     "output_type": "execute_result"
    }
   ],
   "source": [
    "s = ['34', '1999', '2876', '1000000']\n",
    "result = map(int, s)\n",
    "list(result)"
   ]
  },
  {
   "cell_type": "code",
   "execution_count": 15,
   "metadata": {},
   "outputs": [
    {
     "data": {
      "text/plain": [
       "(0.0, 6.0)"
      ]
     },
     "execution_count": 15,
     "metadata": {},
     "output_type": "execute_result"
    },
    {
     "data": {
      "image/png": "[encoded data removed]",
      "text/plain": [
       "<Figure size 640x480 with 1 Axes>"
      ]
     },
     "metadata": {},
     "output_type": "display_data"
    }
   ],
   "source": [
    "import matplotlib.pyplot as plt\n",
    "\n",
    "x = [5, 3, 1, 2]\n",
    "y = [1, 5, 2, 4]\n",
    "plt.scatter(x, y)\n",
    "plt.xlim(0, 6)\n",
    "plt.ylim(0, 6)"
   ]
  },
  {
   "cell_type": "code",
   "execution_count": null,
   "metadata": {},
   "outputs": [],
   "source": [
    "import numpy as np\n",
    "import matplotlib.pyplot as plt\n",
    "\n",
    "x= np.arange(1, 5, .5)\n",
    "y = np.random.randint(1, 5, 8)\n",
    "size = [50, 80, 100, 20, 150, 200, 300, 250]\n",
    "plt.scatter(x, y, s=size, c=size, cmap='jet')\n",
    "plt.xlim(0, 5)\n",
    "plt.ylim(0, 5)\n",
    "plt.colorbar()\n",
    "plt.show()"
   ]
  }
 ],
 "metadata": {
  "kernelspec": {
   "display_name": "base",
   "language": "python",
   "name": "python3"
  },
  "language_info": {
   "codemirror_mode": {
    "name": "ipython",
    "version": 3
   },
   "file_extension": ".py",
   "mimetype": "text/x-python",
   "name": "python",
   "nbconvert_exporter": "python",
   "pygments_lexer": "ipython3",
   "version": "3.9.13"
  },
  "orig_nbformat": 4,
  "vscode": {
   "interpreter": {
    "hash": "f0c53bbe9542e47df31481e02bf4a49341ba358ee71ef3d714e12d58f858f224"
   }
  }
 },
 "nbformat": 4,
 "nbformat_minor": 2
}
